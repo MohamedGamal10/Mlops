{
 "cells": [
  {
   "cell_type": "code",
   "execution_count": 1,
   "metadata": {},
   "outputs": [],
   "source": [
    "#Setup Libs\n",
    "import pandas as pd\n",
    "from sklearn.feature_extraction import DictVectorizer\n",
    "from sklearn.linear_model import LinearRegression\n",
    "from sklearn.metrics import mean_squared_error"
   ]
  },
  {
   "cell_type": "code",
   "execution_count": 2,
   "metadata": {},
   "outputs": [],
   "source": [
    "def get_info (filename):\n",
    "    df = pd.read_parquet(filename)\n",
    "\n",
    "    #Get the Number of Columns\n",
    "    print(f\"Number of columns : {len(df.columns.to_list())}\")\n",
    "\n",
    "    #Get the Duration\n",
    "    df['duration'] = df['tpep_dropoff_datetime'] - df['tpep_pickup_datetime']\n",
    "    df.duration = df.duration.apply(lambda td: td.total_seconds() / 60)\n",
    "\n",
    "    #Get The Standard divation\n",
    "    print(f\"standard deviation of the trips duration in January : {df['duration'].std()}\")\n",
    "\n",
    "    Filtered_Data = df[(df['duration'] <= 60) & (df['duration'] >= 1)]\n",
    "    print(f\"fraction of the records left after you dropped the outliers : {(Filtered_Data.shape[0]/df.shape[0])*100} %\")\n"
   ]
  },
  {
   "cell_type": "code",
   "execution_count": 3,
   "metadata": {},
   "outputs": [
    {
     "name": "stdout",
     "output_type": "stream",
     "text": [
      "Number of columns : 19\n",
      "standard deviation of the trips duration in January : 46.44530513776499\n",
      "fraction of the records left after you dropped the outliers : 98.27547930522405 %\n"
     ]
    }
   ],
   "source": [
    "get_info('yellow_tripdata_2022-01.parquet')"
   ]
  },
  {
   "cell_type": "code",
   "execution_count": 4,
   "metadata": {},
   "outputs": [],
   "source": [
    "def read_Dataframe(filename):\n",
    "    df = pd.read_parquet(filename)\n",
    "    df['duration'] = df['tpep_dropoff_datetime'] - df['tpep_pickup_datetime']\n",
    "    df['duration'] = df['duration'].apply(lambda td: td.total_seconds() / 60)\n",
    "\n",
    "    df = df[(df['duration'] <= 60) & (df['duration'] >= 1)]\n",
    "\n",
    "    categorical = ['PULocationID', 'DOLocationID']\n",
    "    df[categorical] = df[categorical].astype(str)\n",
    "    \n",
    "    return df"
   ]
  },
  {
   "cell_type": "code",
   "execution_count": 5,
   "metadata": {},
   "outputs": [],
   "source": [
    "df_train = read_Dataframe('yellow_tripdata_2022-01.parquet')\n",
    "df_val = read_Dataframe('yellow_tripdata_2022-02.parquet')"
   ]
  },
  {
   "cell_type": "code",
   "execution_count": 16,
   "metadata": {},
   "outputs": [],
   "source": [
    "def one_hot_encoding(dataframe):\n",
    "    # Select the pickup and dropoff location ID columns\n",
    "    selected_columns = ['PULocationID', 'DOLocationID']\n",
    "    df_selected = dataframe[selected_columns]\n",
    "\n",
    "    # Convert the DataFrame into a list of dictionaries\n",
    "    dict_list = df_selected.to_dict(orient='records')\n",
    "\n",
    "    # Fit a dictionary vectorizer and transform the data\n",
    "    vectorizer = DictVectorizer(sparse=False)\n",
    "    feature_matrix = vectorizer.fit_transform(dict_list)\n",
    "\n",
    "    # Get the dimensionality of the feature matrix\n",
    "    num_columns = feature_matrix.shape[1]\n",
    "\n",
    "    print(\"Dimensionality of the feature matrix:\", num_columns)\n",
    "        \n",
    "    return feature_matrix"
   ]
  },
  {
   "cell_type": "code",
   "execution_count": 17,
   "metadata": {},
   "outputs": [
    {
     "name": "stdout",
     "output_type": "stream",
     "text": [
      "Dimensionality of the feature matrix: 515\n",
      "Dimensionality of the feature matrix: 514\n"
     ]
    }
   ],
   "source": [
    "X_train = one_hot_encoding(df_train)\n",
    "X_val = one_hot_encoding(df_val)"
   ]
  },
  {
   "cell_type": "code",
   "execution_count": 18,
   "metadata": {},
   "outputs": [],
   "source": [
    "target = 'duration'\n",
    "y_train = df_train[target].values\n",
    "y_val = df_val[target].values"
   ]
  },
  {
   "cell_type": "code",
   "execution_count": 19,
   "metadata": {},
   "outputs": [
    {
     "ename": "MemoryError",
     "evalue": "Unable to allocate 9.29 GiB for an array with shape (2421440, 515) and data type float64",
     "output_type": "error",
     "traceback": [
      "\u001b[1;31m---------------------------------------------------------------------------\u001b[0m",
      "\u001b[1;31mMemoryError\u001b[0m                               Traceback (most recent call last)",
      "Cell \u001b[1;32mIn[19], line 2\u001b[0m\n\u001b[0;32m      1\u001b[0m lr \u001b[39m=\u001b[39m LinearRegression()\n\u001b[1;32m----> 2\u001b[0m lr\u001b[39m.\u001b[39;49mfit(X_train, y_train)\n\u001b[0;32m      4\u001b[0m y_pred \u001b[39m=\u001b[39m lr\u001b[39m.\u001b[39mpredict(X_val)\n\u001b[0;32m      6\u001b[0m mean_squared_error(y_val, y_pred, squared\u001b[39m=\u001b[39m\u001b[39mFalse\u001b[39;00m)\n",
      "File \u001b[1;32mc:\\anaconda\\lib\\site-packages\\sklearn\\linear_model\\_base.py:656\u001b[0m, in \u001b[0;36mLinearRegression.fit\u001b[1;34m(self, X, y, sample_weight)\u001b[0m\n\u001b[0;32m    648\u001b[0m X, y \u001b[39m=\u001b[39m \u001b[39mself\u001b[39m\u001b[39m.\u001b[39m_validate_data(\n\u001b[0;32m    649\u001b[0m     X, y, accept_sparse\u001b[39m=\u001b[39maccept_sparse, y_numeric\u001b[39m=\u001b[39m\u001b[39mTrue\u001b[39;00m, multi_output\u001b[39m=\u001b[39m\u001b[39mTrue\u001b[39;00m\n\u001b[0;32m    650\u001b[0m )\n\u001b[0;32m    652\u001b[0m sample_weight \u001b[39m=\u001b[39m _check_sample_weight(\n\u001b[0;32m    653\u001b[0m     sample_weight, X, dtype\u001b[39m=\u001b[39mX\u001b[39m.\u001b[39mdtype, only_non_negative\u001b[39m=\u001b[39m\u001b[39mTrue\u001b[39;00m\n\u001b[0;32m    654\u001b[0m )\n\u001b[1;32m--> 656\u001b[0m X, y, X_offset, y_offset, X_scale \u001b[39m=\u001b[39m _preprocess_data(\n\u001b[0;32m    657\u001b[0m     X,\n\u001b[0;32m    658\u001b[0m     y,\n\u001b[0;32m    659\u001b[0m     fit_intercept\u001b[39m=\u001b[39;49m\u001b[39mself\u001b[39;49m\u001b[39m.\u001b[39;49mfit_intercept,\n\u001b[0;32m    660\u001b[0m     copy\u001b[39m=\u001b[39;49m\u001b[39mself\u001b[39;49m\u001b[39m.\u001b[39;49mcopy_X,\n\u001b[0;32m    661\u001b[0m     sample_weight\u001b[39m=\u001b[39;49msample_weight,\n\u001b[0;32m    662\u001b[0m )\n\u001b[0;32m    664\u001b[0m \u001b[39m# Sample weight can be implemented via a simple rescaling.\u001b[39;00m\n\u001b[0;32m    665\u001b[0m X, y, sample_weight_sqrt \u001b[39m=\u001b[39m _rescale_data(X, y, sample_weight)\n",
      "File \u001b[1;32mc:\\anaconda\\lib\\site-packages\\sklearn\\linear_model\\_base.py:252\u001b[0m, in \u001b[0;36m_preprocess_data\u001b[1;34m(X, y, fit_intercept, normalize, copy, sample_weight, check_input)\u001b[0m\n\u001b[0;32m    244\u001b[0m     X_offset, X_var, _ \u001b[39m=\u001b[39m _incremental_mean_and_var(\n\u001b[0;32m    245\u001b[0m         X,\n\u001b[0;32m    246\u001b[0m         last_mean\u001b[39m=\u001b[39m\u001b[39m0.0\u001b[39m,\n\u001b[1;32m   (...)\u001b[0m\n\u001b[0;32m    249\u001b[0m         sample_weight\u001b[39m=\u001b[39msample_weight,\n\u001b[0;32m    250\u001b[0m     )\n\u001b[0;32m    251\u001b[0m \u001b[39melse\u001b[39;00m:\n\u001b[1;32m--> 252\u001b[0m     X_offset \u001b[39m=\u001b[39m np\u001b[39m.\u001b[39;49maverage(X, axis\u001b[39m=\u001b[39;49m\u001b[39m0\u001b[39;49m, weights\u001b[39m=\u001b[39;49msample_weight)\n\u001b[0;32m    254\u001b[0m X_offset \u001b[39m=\u001b[39m X_offset\u001b[39m.\u001b[39mastype(X\u001b[39m.\u001b[39mdtype, copy\u001b[39m=\u001b[39m\u001b[39mFalse\u001b[39;00m)\n\u001b[0;32m    255\u001b[0m X \u001b[39m-\u001b[39m\u001b[39m=\u001b[39m X_offset\n",
      "File \u001b[1;32m<__array_function__ internals>:180\u001b[0m, in \u001b[0;36maverage\u001b[1;34m(*args, **kwargs)\u001b[0m\n",
      "File \u001b[1;32mc:\\anaconda\\lib\\site-packages\\numpy\\lib\\function_base.py:550\u001b[0m, in \u001b[0;36maverage\u001b[1;34m(a, axis, weights, returned, keepdims)\u001b[0m\n\u001b[0;32m    546\u001b[0m     \u001b[39mif\u001b[39;00m np\u001b[39m.\u001b[39many(scl \u001b[39m==\u001b[39m \u001b[39m0.0\u001b[39m):\n\u001b[0;32m    547\u001b[0m         \u001b[39mraise\u001b[39;00m \u001b[39mZeroDivisionError\u001b[39;00m(\n\u001b[0;32m    548\u001b[0m             \u001b[39m\"\u001b[39m\u001b[39mWeights sum to zero, can\u001b[39m\u001b[39m'\u001b[39m\u001b[39mt be normalized\u001b[39m\u001b[39m\"\u001b[39m)\n\u001b[1;32m--> 550\u001b[0m     avg \u001b[39m=\u001b[39m np\u001b[39m.\u001b[39;49mmultiply(a, wgt,\n\u001b[0;32m    551\u001b[0m                       dtype\u001b[39m=\u001b[39;49mresult_dtype)\u001b[39m.\u001b[39msum(axis, \u001b[39m*\u001b[39m\u001b[39m*\u001b[39mkeepdims_kw) \u001b[39m/\u001b[39m scl\n\u001b[0;32m    553\u001b[0m \u001b[39mif\u001b[39;00m returned:\n\u001b[0;32m    554\u001b[0m     \u001b[39mif\u001b[39;00m scl\u001b[39m.\u001b[39mshape \u001b[39m!=\u001b[39m avg\u001b[39m.\u001b[39mshape:\n",
      "\u001b[1;31mMemoryError\u001b[0m: Unable to allocate 9.29 GiB for an array with shape (2421440, 515) and data type float64"
     ]
    }
   ],
   "source": [
    "lr = LinearRegression()\n",
    "lr.fit(X_train, y_train)\n",
    "\n",
    "y_pred = lr.predict(X_val)\n",
    "\n",
    "mean_squared_error(y_val, y_pred, squared=False)"
   ]
  },
  {
   "cell_type": "code",
   "execution_count": null,
   "metadata": {},
   "outputs": [],
   "source": []
  }
 ],
 "metadata": {
  "kernelspec": {
   "display_name": "base",
   "language": "python",
   "name": "python3"
  },
  "language_info": {
   "codemirror_mode": {
    "name": "ipython",
    "version": 3
   },
   "file_extension": ".py",
   "mimetype": "text/x-python",
   "name": "python",
   "nbconvert_exporter": "python",
   "pygments_lexer": "ipython3",
   "version": "3.10.9"
  },
  "orig_nbformat": 4
 },
 "nbformat": 4,
 "nbformat_minor": 2
}
